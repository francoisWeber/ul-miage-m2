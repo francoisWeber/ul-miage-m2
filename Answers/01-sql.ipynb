{
 "cells": [
  {
   "cell_type": "code",
   "execution_count": null,
   "metadata": {},
   "outputs": [],
   "source": [
    "import mysql.connector\n",
    "import pandas as pd\n",
    "\n",
    "# MySQL connection details\n",
    "mysql_host = 'mysql'\n",
    "mysql_user = 'student'\n",
    "mysql_password = 'student'\n",
    "mysql_database = 'workshop_db'\n",
    "\n",
    "# Create a connection to the MySQL database\n",
    "conn = mysql.connector.connect(\n",
    "    host=mysql_host,\n",
    "    user=mysql_user,\n",
    "    password=mysql_password,\n",
    "    database=mysql_database\n",
    ")"
   ]
  },
  {
   "cell_type": "markdown",
   "metadata": {},
   "source": [
    "# UC-1"
   ]
  },
  {
   "cell_type": "code",
   "execution_count": null,
   "metadata": {},
   "outputs": [],
   "source": [
    "# Q1\n",
    "full_join_query = \"\"\"SELECT count(*)\n",
    "FROM beers\n",
    "WHERE TRUE\n",
    ";\"\"\"\n",
    "df = pd.read_sql_query(full_join_query, con=conn)\n",
    "df"
   ]
  },
  {
   "cell_type": "code",
   "execution_count": null,
   "metadata": {},
   "outputs": [],
   "source": [
    "# Q2\n",
    "full_join_query = \"\"\"SELECT brew.name as brewery, count(*)\n",
    "FROM beers\n",
    "JOIN breweries as brew on brew.id = beers.brewery_id\n",
    "WHERE TRUE\n",
    "GROUP BY brew.name\n",
    "ORDER BY 2 DESC\n",
    "LIMIT 10\n",
    ";\"\"\"\n",
    "df = pd.read_sql_query(full_join_query, con=conn)\n",
    "df"
   ]
  },
  {
   "cell_type": "code",
   "execution_count": null,
   "metadata": {},
   "outputs": [],
   "source": [
    "# Q3\n",
    "full_join_query = \"\"\"SELECT beers.name, brew.name, abv\n",
    "FROM beers\n",
    "JOIN breweries as brew on brew.id = beers.brewery_id\n",
    "WHERE TRUE\n",
    "AND brew.country = 'France'\n",
    "ORDER BY 3 DESC\n",
    "LIMIT 10\n",
    ";\"\"\"\n",
    "df = pd.read_sql_query(full_join_query, con=conn)\n",
    "df"
   ]
  },
  {
   "cell_type": "code",
   "execution_count": null,
   "metadata": {},
   "outputs": [],
   "source": [
    "# Q4\n",
    "full_join_query = \"\"\"SELECT brew.country, count(*) as nb_porter, AVG(ABV) as abv_mean\n",
    "FROM beers\n",
    "JOIN breweries as brew on brew.id = beers.brewery_id\n",
    "JOIN styles on styles.id = beers.style_id\n",
    "WHERE TRUE\n",
    "AND styles.style_name = 'Porter'\n",
    "GROUP BY brew.country\n",
    "ORDER BY 2 DESC\n",
    ";\"\"\"\n",
    "df = pd.read_sql_query(full_join_query, con=conn)\n",
    "df"
   ]
  },
  {
   "cell_type": "code",
   "execution_count": null,
   "metadata": {},
   "outputs": [],
   "source": [
    "# Q5 - observation : certaines opérations \"simples\" sont un peu compliquées à réaliser en SQL\n",
    "q = \"\"\"\n",
    "WITH country_cnt AS (\n",
    "    SELECT \n",
    "        brew.country AS country,\n",
    "        COUNT(*) AS cnt\n",
    "    FROM beers\n",
    "    JOIN breweries AS brew ON brew.id = beers.brewery_id\n",
    "    GROUP BY brew.country\n",
    "    ORDER BY cnt DESC\n",
    "), ranked_countries AS (\n",
    "    SELECT\n",
    "        country, cnt, ROW_NUMBER() OVER (ORDER BY cnt) as rnk\n",
    "    FROM country_cnt\n",
    "), nlines AS (\n",
    "    SELECT count(*) as nn\n",
    "    FROM country_cnt\n",
    "), proxy_median AS (\n",
    "    SELECT \n",
    "        country, cnt, POWER((rnk / nn) - 1/2, 2) as proxmed\n",
    "    FROM ranked_countries\n",
    "    LEFT JOIN nlines ON TRUE\n",
    ")\n",
    "SELECT * \n",
    "FROM proxy_median\n",
    "ORDER BY proxmed ASC\n",
    "LIMIT 1\n",
    ";\"\"\"\n",
    "df = pd.read_sql_query(q, con=conn)\n",
    "df"
   ]
  },
  {
   "cell_type": "markdown",
   "metadata": {},
   "source": [
    "# UC-2"
   ]
  },
  {
   "cell_type": "markdown",
   "metadata": {},
   "source": [
    "# UC-3 search from a query"
   ]
  },
  {
   "cell_type": "markdown",
   "metadata": {},
   "source": [
    "**Observation :** On ne pourra pas aller bien loin en terme de souplesse dans la requête"
   ]
  },
  {
   "cell_type": "code",
   "execution_count": null,
   "metadata": {},
   "outputs": [],
   "source": [
    "QUERY = \"stout\"\n",
    "\n",
    "q = f\"\"\"\n",
    "WITH descriptions AS (\n",
    "    SELECT \n",
    "        brew.name as brewery, beers.name as name, CONCAT(beers.descript, brew.descript) as descr\n",
    "    FROM beers\n",
    "    JOIN breweries as brew on brew.id = beers.brewery_id\n",
    "    WHERE TRUE\n",
    "    AND LENGTH(beers.descript) + LENGTH(beers.descript) > 2\n",
    ")\n",
    "SELECT *\n",
    "FROM descriptions\n",
    "WHERE True\n",
    "AND descriptions.descr LIKE '%{QUERY}%'\n",
    ";\"\"\"\n",
    "pd.read_sql_query(q, con=conn)"
   ]
  },
  {
   "cell_type": "markdown",
   "metadata": {},
   "source": [
    "# UC-4 vectorize items"
   ]
  },
  {
   "cell_type": "code",
   "execution_count": null,
   "metadata": {},
   "outputs": [],
   "source": [
    "q = \"\"\"\n",
    "WITH data AS (\n",
    "    SELECT \n",
    "        beers.id, beers.name, beers.abv, beers.ibu, beers.srm, beers.descript as beer_descr,\n",
    "        brew.descript as brewer_descript, brew.name as brewery,\n",
    "        styles.style_name\n",
    "    FROM beers\n",
    "    LEFT JOIN breweries as brew on brew.id = beers.brewery_id\n",
    "    LEFT JOIN styles on styles.id = beers.style_id\n",
    "), descriptions AS (\n",
    "    SELECT \n",
    "        id,\n",
    "        CONCAT('the beer ', name, ' from brewery ', brewery, ' (', brewer_descript, ') crafts the beer ', name, ' defined as ', beer_descr, '. Spec of the beer are: ABV=', abv, ', IBU=', ibu, ', SRM=', srm) as to_vectorize\n",
    "    FROM data\n",
    ")\n",
    "SELECT \n",
    "    id, to_vectorize\n",
    "FROM descriptions\n",
    "WHERE True\n",
    "    AND id % 12 = 3\n",
    ";\"\"\"\n",
    "df = pd.read_sql_query(q, con=conn)"
   ]
  },
  {
   "cell_type": "code",
   "execution_count": null,
   "metadata": {},
   "outputs": [],
   "source": [
    "import requests\n",
    "from typing import List\n",
    "import numpy as np\n",
    "\n",
    "class JinaEmbedder:\n",
    "    \n",
    "    URL = 'https://api.jina.ai/v1/embeddings'\n",
    "    EMBEDDING_NAME = \"jina-embeddings-v2-base-en\"\n",
    "    bearer_token = 'Bearer jina_85ba1ab9e5ff4017b3d216ebb8734f27xzJ9WyoYBFwqks9lOaNLHryw_Yyz'\n",
    "\n",
    "    @staticmethod\n",
    "    def http_json_to_vec(http_json: dict):\n",
    "        return np.array(\n",
    "            [\n",
    "                sentence[\"embedding\"]\n",
    "                for sentence in http_json[\"data\"]\n",
    "            ]\n",
    "        )        \n",
    "\n",
    "    @classmethod\n",
    "    def embed(cls, str_to_vectorize: List[str] | str) -> dict:\n",
    "        if isinstance(str_to_vectorize, str):\n",
    "            str_to_vectorize = [str_to_vectorize]\n",
    "        headers = {\n",
    "            'Content-Type': 'application/json',\n",
    "            'Authorization': cls.bearer_token\n",
    "        }\n",
    "        data = {\n",
    "            'model': cls.EMBEDDING_NAME,\n",
    "            'normalized': True,\n",
    "            'embedding_type': 'float',\n",
    "            'input': str_to_vectorize\n",
    "        }\n",
    "        \n",
    "        response = requests.post(cls.URL, headers=headers, json=data)\n",
    "\n",
    "        if response.status_code != 200:\n",
    "            raise ValueError(f\"Error code {response.status_code} on this call\")\n",
    "\n",
    "        return JinaEmbedder.http_json_to_vec(response.json())\n"
   ]
  },
  {
   "cell_type": "code",
   "execution_count": null,
   "metadata": {},
   "outputs": [],
   "source": [
    "my_embeddings = JinaEmbedder.embed(df.iloc[:, 1].to_list())"
   ]
  }
 ],
 "metadata": {
  "language_info": {
   "name": "python"
  }
 },
 "nbformat": 4,
 "nbformat_minor": 2
}
