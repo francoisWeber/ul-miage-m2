{
 "cells": [
  {
   "cell_type": "code",
   "execution_count": 1,
   "id": "ac024a62-f634-4faa-b58e-c9d585475d78",
   "metadata": {},
   "outputs": [
    {
     "name": "stdout",
     "output_type": "stream",
     "text": [
      "Using http Authentication against endpoint http://vespa:19071/ApplicationStatus\n",
      "Application is up!\n"
     ]
    }
   ],
   "source": [
    "from vespa.application import Vespa\n",
    "vespa = Vespa(url=\"http://vespa\", port=19071)\n",
    "vespa.wait_for_application_up(5)"
   ]
  },
  {
   "cell_type": "code",
   "execution_count": null,
   "id": "f8abe3cb-2074-47ac-af1d-a6f5f55d87ee",
   "metadata": {},
   "outputs": [],
   "source": []
  }
 ],
 "metadata": {
  "kernelspec": {
   "display_name": "Python 3 (ipykernel)",
   "language": "python",
   "name": "python3"
  },
  "language_info": {
   "codemirror_mode": {
    "name": "ipython",
    "version": 3
   },
   "file_extension": ".py",
   "mimetype": "text/x-python",
   "name": "python",
   "nbconvert_exporter": "python",
   "pygments_lexer": "ipython3",
   "version": "3.10.12"
  }
 },
 "nbformat": 4,
 "nbformat_minor": 5
}
