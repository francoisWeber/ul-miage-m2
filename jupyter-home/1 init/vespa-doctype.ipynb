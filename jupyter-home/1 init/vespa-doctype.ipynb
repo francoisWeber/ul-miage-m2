{
 "cells": [
  {
   "cell_type": "code",
   "execution_count": 1,
   "id": "70f2070d-e7ce-4b2c-8ff1-6f928b0501d7",
   "metadata": {},
   "outputs": [
    {
     "name": "stdout",
     "output_type": "stream",
     "text": [
      "Filesystem            Size  Used Avail Use% Mounted on\n",
      "overlay               110G   84G   21G  81% /\n",
      "tmpfs                  64M     0   64M   0% /dev\n",
      "shm                    64M     0   64M   0% /dev/shm\n",
      "/run/host_mark/Users  461G  251G  211G  55% /datasets\n",
      "/dev/vda1             110G   84G   21G  81% /data\n",
      "tmpfs                 8.8G     0  8.8G   0% /sys/firmware\n"
     ]
    }
   ],
   "source": [
    "!df -h"
   ]
  },
  {
   "cell_type": "code",
   "execution_count": 1,
   "id": "5d0e8cb2",
   "metadata": {},
   "outputs": [
    {
     "name": "stdout",
     "output_type": "stream",
     "text": [
      "Defaulting to user installation because normal site-packages is not writeable\n",
      "Requirement already satisfied: pandas in /home/francois.weber/.local/lib/python3.11/site-packages (2.2.2)\n",
      "Requirement already satisfied: numpy in /home/francois.weber/.local/lib/python3.11/site-packages (2.0.0)\n",
      "Requirement already satisfied: pyvespa in /home/francois.weber/.local/lib/python3.11/site-packages (0.45.0)\n",
      "Requirement already satisfied: pytz>=2020.1 in /home/francois.weber/.local/lib/python3.11/site-packages (from pandas) (2024.1)\n",
      "Requirement already satisfied: tzdata>=2022.7 in /home/francois.weber/.local/lib/python3.11/site-packages (from pandas) (2024.1)\n",
      "Requirement already satisfied: python-dateutil>=2.8.2 in /usr/local/lib/python3.11/dist-packages (from pandas) (2.9.0.post0)\n",
      "Requirement already satisfied: requests>=2.32.0 in /usr/local/lib/python3.11/dist-packages (from pyvespa) (2.32.3)\n",
      "Requirement already satisfied: docker in /home/francois.weber/.local/lib/python3.11/site-packages (from pyvespa) (7.1.0)\n",
      "Requirement already satisfied: jinja2 in /usr/local/lib/python3.11/dist-packages (from pyvespa) (3.1.4)\n",
      "Requirement already satisfied: requests-toolbelt in /home/francois.weber/.local/lib/python3.11/site-packages (from pyvespa) (1.0.0)\n",
      "Requirement already satisfied: cryptography in /usr/local/lib/python3.11/dist-packages (from pyvespa) (42.0.8)\n",
      "Requirement already satisfied: tenacity>=8.4.1 in /home/francois.weber/.local/lib/python3.11/site-packages (from pyvespa) (8.5.0)\n",
      "Requirement already satisfied: aiohttp in /home/francois.weber/.local/lib/python3.11/site-packages (from pyvespa) (3.9.5)\n",
      "Requirement already satisfied: typing-extensions in /usr/local/lib/python3.11/dist-packages (from pyvespa) (4.12.2)\n",
      "Requirement already satisfied: six>=1.5 in /usr/local/lib/python3.11/dist-packages (from python-dateutil>=2.8.2->pandas) (1.16.0)\n",
      "Requirement already satisfied: idna<4,>=2.5 in /usr/local/lib/python3.11/dist-packages (from requests>=2.32.0->pyvespa) (3.7)\n",
      "Requirement already satisfied: urllib3<3,>=1.21.1 in /usr/local/lib/python3.11/dist-packages (from requests>=2.32.0->pyvespa) (2.2.2)\n",
      "Requirement already satisfied: certifi>=2017.4.17 in /usr/local/lib/python3.11/dist-packages (from requests>=2.32.0->pyvespa) (2024.7.4)\n",
      "Requirement already satisfied: charset-normalizer<4,>=2 in /usr/local/lib/python3.11/dist-packages (from requests>=2.32.0->pyvespa) (3.3.2)\n",
      "Requirement already satisfied: yarl<2.0,>=1.0 in /home/francois.weber/.local/lib/python3.11/site-packages (from aiohttp->pyvespa) (1.9.4)\n",
      "Requirement already satisfied: attrs>=17.3.0 in /usr/local/lib/python3.11/dist-packages (from aiohttp->pyvespa) (23.2.0)\n",
      "Requirement already satisfied: aiosignal>=1.1.2 in /home/francois.weber/.local/lib/python3.11/site-packages (from aiohttp->pyvespa) (1.3.1)\n",
      "Requirement already satisfied: frozenlist>=1.1.1 in /home/francois.weber/.local/lib/python3.11/site-packages (from aiohttp->pyvespa) (1.4.1)\n",
      "Requirement already satisfied: multidict<7.0,>=4.5 in /home/francois.weber/.local/lib/python3.11/site-packages (from aiohttp->pyvespa) (6.0.5)\n",
      "Requirement already satisfied: cffi>=1.12 in /usr/local/lib/python3.11/dist-packages (from cryptography->pyvespa) (1.16.0)\n",
      "Requirement already satisfied: MarkupSafe>=2.0 in /usr/local/lib/python3.11/dist-packages (from jinja2->pyvespa) (2.1.5)\n",
      "Requirement already satisfied: pycparser in /usr/local/lib/python3.11/dist-packages (from cffi>=1.12->cryptography->pyvespa) (2.22)\n"
     ]
    }
   ],
   "source": [
    "!pip install pandas numpy pyvespa"
   ]
  },
  {
   "cell_type": "code",
   "execution_count": 1,
   "id": "0ad0122f-f026-43c1-b35d-3bf981369437",
   "metadata": {},
   "outputs": [],
   "source": [
    "import os\n",
    "import pandas as pd\n",
    "import numpy as np\n",
    "\n",
    "from vespa.package import ApplicationPackage\n",
    "from vespa.package import Field, FieldSet, RankProfile\n",
    "from vespa.application import Vespa"
   ]
  },
  {
   "cell_type": "code",
   "execution_count": 2,
   "id": "d76458af-9f54-4539-b651-a3d1287a9e0a",
   "metadata": {},
   "outputs": [],
   "source": [
    "DATA_DIR = \"/data\"\n",
    "DATA_FULL_PATH = \"/data/beers_full.csv\""
   ]
  },
  {
   "cell_type": "markdown",
   "id": "8502226f-0b55-41b5-a210-ac2fca1cf8f3",
   "metadata": {},
   "source": [
    "# Re Generate the full beers dataset for indices"
   ]
  },
  {
   "cell_type": "code",
   "execution_count": 3,
   "id": "af15ba9a-c45b-4ee2-8e4e-03c1f67f75f1",
   "metadata": {},
   "outputs": [],
   "source": [
    "REGENERATE = False"
   ]
  },
  {
   "cell_type": "code",
   "execution_count": 4,
   "id": "9c8cf4f6-3ae6-45cf-9e08-46773994fd19",
   "metadata": {},
   "outputs": [],
   "source": [
    "if REGENERATE:\n",
    "    dfs = {}\n",
    "    for fname in os.listdir(DATA_DIR):\n",
    "        if \"full\" in fname:\n",
    "            continue\n",
    "        path = os.path.join(DATA_DIR, fname)\n",
    "        os.path.basename(path)\n",
    "        table_name = os.path.splitext(os.path.basename(path))[0]\n",
    "        dfs[table_name] = pd.read_csv(path, encoding=\"utf-8\")\n",
    "\n",
    "    df = dfs[\"beers\"]\n",
    "    df = pd.merge(\n",
    "        df,\n",
    "        dfs[\"breweries\"].rename(columns={\"id\": \"brewery_id\"}),\n",
    "        how=\"left\",\n",
    "        on=\"brewery_id\",\n",
    "        suffixes=(\"\", \"_breweries\"),\n",
    "    )\n",
    "    df = pd.merge(\n",
    "        df,\n",
    "        dfs[\"categories\"].rename(columns={\"id\": \"cat_id\"}),\n",
    "        how=\"left\",\n",
    "        on=\"cat_id\",\n",
    "        suffixes=(\"\", \"_categories\"),\n",
    "    )\n",
    "    df = pd.merge(\n",
    "        df,\n",
    "        dfs[\"styles\"].rename(columns={\"id\": \"style_id\"}),\n",
    "        how=\"left\",\n",
    "        on=\"style_id\",\n",
    "        suffixes=(\"\", \"_styles\"),\n",
    "    )\n",
    "    df = pd.merge(\n",
    "        df, dfs[\"breweries_geocode\"], how=\"left\", on=\"brewery_id\", suffixes=(\"\", \"_geo\")\n",
    "    )\n",
    "    df = df.drop(\n",
    "        columns=[\n",
    "            \"address2\",\n",
    "            \"filepath_breweries\",\n",
    "            \"filepath\",\n",
    "            \"last_mod\",\n",
    "            \"last_mod_styles\",\n",
    "            \"last_mod_categories\",\n",
    "            \"add_user\",\n",
    "            \"add_user_breweries\",\n",
    "            \"last_mod_breweries\",\n",
    "        ]\n",
    "    )\n",
    "    df = df.rename(\n",
    "        columns={\n",
    "            \"descript_breweries\": \"description_brewery\",\n",
    "            \"descript\": \"description_beer\",\n",
    "            \"name_breweries\": \"brewery\",\n",
    "        }\n",
    "    )\n",
    "\n",
    "    df.to_csv(DATA_FULL_PATH, index=False)\n",
    "else:\n",
    "    df = pd.read_csv(DATA_FULL_PATH)"
   ]
  },
  {
   "cell_type": "code",
   "execution_count": 5,
   "id": "2260dfe6-e49c-4c3a-b646-35e280d39c8a",
   "metadata": {},
   "outputs": [
    {
     "data": {
      "text/html": [
       "<div>\n",
       "<style scoped>\n",
       "    .dataframe tbody tr th:only-of-type {\n",
       "        vertical-align: middle;\n",
       "    }\n",
       "\n",
       "    .dataframe tbody tr th {\n",
       "        vertical-align: top;\n",
       "    }\n",
       "\n",
       "    .dataframe thead th {\n",
       "        text-align: right;\n",
       "    }\n",
       "</style>\n",
       "<table border=\"1\" class=\"dataframe\">\n",
       "  <thead>\n",
       "    <tr style=\"text-align: right;\">\n",
       "      <th></th>\n",
       "      <th>id</th>\n",
       "      <th>brewery_id</th>\n",
       "      <th>name</th>\n",
       "      <th>cat_id</th>\n",
       "      <th>style_id</th>\n",
       "      <th>abv</th>\n",
       "      <th>ibu</th>\n",
       "      <th>srm</th>\n",
       "      <th>upc</th>\n",
       "      <th>description_beer</th>\n",
       "      <th>...</th>\n",
       "      <th>phone</th>\n",
       "      <th>website</th>\n",
       "      <th>description_brewery</th>\n",
       "      <th>cat_name</th>\n",
       "      <th>cat_id_styles</th>\n",
       "      <th>style_name</th>\n",
       "      <th>id_geo</th>\n",
       "      <th>latitude</th>\n",
       "      <th>longitude</th>\n",
       "      <th>accuracy</th>\n",
       "    </tr>\n",
       "  </thead>\n",
       "  <tbody>\n",
       "    <tr>\n",
       "      <th>5644</th>\n",
       "      <td>5599</td>\n",
       "      <td>1015</td>\n",
       "      <td>Lodgepole Light</td>\n",
       "      <td>11</td>\n",
       "      <td>113</td>\n",
       "      <td>0.0</td>\n",
       "      <td>0.0</td>\n",
       "      <td>0.0</td>\n",
       "      <td>0</td>\n",
       "      <td>NaN</td>\n",
       "      <td>...</td>\n",
       "      <td>(928) 771-2795</td>\n",
       "      <td>http://prescottbrewingcompany.com/</td>\n",
       "      <td>NaN</td>\n",
       "      <td>Other Style</td>\n",
       "      <td>11.0</td>\n",
       "      <td>American-Style Cream Ale or Lager</td>\n",
       "      <td>955.0</td>\n",
       "      <td>34.5420</td>\n",
       "      <td>-112.4700</td>\n",
       "      <td>ROOFTOP</td>\n",
       "    </tr>\n",
       "    <tr>\n",
       "      <th>653</th>\n",
       "      <td>640</td>\n",
       "      <td>598</td>\n",
       "      <td>Hefeweizen</td>\n",
       "      <td>4</td>\n",
       "      <td>50</td>\n",
       "      <td>0.0</td>\n",
       "      <td>0.0</td>\n",
       "      <td>0.0</td>\n",
       "      <td>0</td>\n",
       "      <td>NaN</td>\n",
       "      <td>...</td>\n",
       "      <td>1-604-687-2739</td>\n",
       "      <td>NaN</td>\n",
       "      <td>NaN</td>\n",
       "      <td>German Ale</td>\n",
       "      <td>4.0</td>\n",
       "      <td>South German-Style Hefeweizen</td>\n",
       "      <td>659.0</td>\n",
       "      <td>34.3960</td>\n",
       "      <td>-119.5210</td>\n",
       "      <td>RANGE_INTERPOLATED</td>\n",
       "    </tr>\n",
       "    <tr>\n",
       "      <th>2121</th>\n",
       "      <td>2099</td>\n",
       "      <td>941</td>\n",
       "      <td>KÃ¶lsch</td>\n",
       "      <td>-1</td>\n",
       "      <td>-1</td>\n",
       "      <td>0.0</td>\n",
       "      <td>0.0</td>\n",
       "      <td>0.0</td>\n",
       "      <td>0</td>\n",
       "      <td>NaN</td>\n",
       "      <td>...</td>\n",
       "      <td>1-269-624-6445</td>\n",
       "      <td>NaN</td>\n",
       "      <td>NaN</td>\n",
       "      <td>NaN</td>\n",
       "      <td>NaN</td>\n",
       "      <td>NaN</td>\n",
       "      <td>886.0</td>\n",
       "      <td>42.1682</td>\n",
       "      <td>-85.8497</td>\n",
       "      <td>RANGE_INTERPOLATED</td>\n",
       "    </tr>\n",
       "  </tbody>\n",
       "</table>\n",
       "<p>3 rows × 26 columns</p>\n",
       "</div>"
      ],
      "text/plain": [
       "        id  brewery_id             name  cat_id  style_id  abv  ibu  srm  upc  \\\n",
       "5644  5599        1015  Lodgepole Light      11       113  0.0  0.0  0.0    0   \n",
       "653    640         598       Hefeweizen       4        50  0.0  0.0  0.0    0   \n",
       "2121  2099         941          KÃ¶lsch      -1        -1  0.0  0.0  0.0    0   \n",
       "\n",
       "     description_beer  ...           phone  \\\n",
       "5644              NaN  ...  (928) 771-2795   \n",
       "653               NaN  ...  1-604-687-2739   \n",
       "2121              NaN  ...  1-269-624-6445   \n",
       "\n",
       "                                 website description_brewery     cat_name  \\\n",
       "5644  http://prescottbrewingcompany.com/                 NaN  Other Style   \n",
       "653                                  NaN                 NaN   German Ale   \n",
       "2121                                 NaN                 NaN          NaN   \n",
       "\n",
       "     cat_id_styles                         style_name id_geo latitude  \\\n",
       "5644          11.0  American-Style Cream Ale or Lager  955.0  34.5420   \n",
       "653            4.0      South German-Style Hefeweizen  659.0  34.3960   \n",
       "2121           NaN                                NaN  886.0  42.1682   \n",
       "\n",
       "     longitude            accuracy  \n",
       "5644 -112.4700             ROOFTOP  \n",
       "653  -119.5210  RANGE_INTERPOLATED  \n",
       "2121  -85.8497  RANGE_INTERPOLATED  \n",
       "\n",
       "[3 rows x 26 columns]"
      ]
     },
     "execution_count": 5,
     "metadata": {},
     "output_type": "execute_result"
    }
   ],
   "source": [
    "df.sample(3)"
   ]
  },
  {
   "cell_type": "markdown",
   "id": "ade1a8e3-3a9e-46be-8c50-52d15eaad1c5",
   "metadata": {},
   "source": [
    "# Prepare a Vespa doctype"
   ]
  },
  {
   "cell_type": "code",
   "execution_count": 11,
   "id": "3a3c8fc5-5b7d-4392-b903-0fc546142909",
   "metadata": {},
   "outputs": [],
   "source": [
    "VESPA_CONFIG_DIR = \"/vespa-config\"\n",
    "VESPA_CONFIG_ZIP = os.path.join(VESPA_CONFIG_DIR, \"app_package.zip\")"
   ]
  },
  {
   "cell_type": "markdown",
   "id": "d34b1f41-cd30-418e-aabe-32dcee878b44",
   "metadata": {},
   "source": [
    "### Define Vespa doctype"
   ]
  },
  {
   "cell_type": "code",
   "execution_count": 12,
   "id": "32b76494-5b29-410d-a3e4-f9dba7d9fa2e",
   "metadata": {},
   "outputs": [],
   "source": [
    "fields_spec = [\n",
    "    {\"name\": \"id\", \"type\": \"string\"},\n",
    "    {\"name\": \"brewery_id\", \"type\": \"string\"},\n",
    "    {\"name\": \"name\", \"type\": \"string\", \"indexing\": [\"index\", \"summary\"]},\n",
    "    {\"name\": \"cat_id\", \"type\": \"string\"},\n",
    "    {\"name\": \"style_id\", \"type\": \"string\"},\n",
    "    {\"name\": \"abv\", \"type\": \"float\", \"indexing\": [\"attribute\"]},\n",
    "    {\"name\": \"ibu\", \"type\": \"float\", \"indexing\": [\"attribute\"]},\n",
    "    {\"name\": \"srm\", \"type\": \"float\", \"indexing\": [\"attribute\"]},\n",
    "    {\"name\": \"upc\", \"type\": \"int\", \"indexing\": [\"attribute\"]},\n",
    "    {\n",
    "        \"name\": \"description_beer\",\n",
    "        \"type\": \"string\",\n",
    "        \"indexing\": [\"index\", \"summary\"],\n",
    "        \"index\": \"enable-bm25\",\n",
    "    },\n",
    "    {\n",
    "        \"name\": \"brewery\",\n",
    "        \"type\": \"string\",\n",
    "        \"indexing\": [\"index\", \"summary\"],\n",
    "        \"index\": \"enable-bm25\",\n",
    "    },\n",
    "    {\"name\": \"address1\", \"type\": \"string\", \"indexing\": [\"index\"]},\n",
    "    {\"name\": \"city\", \"type\": \"string\", \"indexing\": [\"index\"]},\n",
    "    {\"name\": \"state\", \"type\": \"string\", \"indexing\": [\"index\"]},\n",
    "    {\"name\": \"code\", \"type\": \"string\"},\n",
    "    {\"name\": \"country\", \"type\": \"string\", \"indexing\": [\"index\", \"summary\"]},\n",
    "    {\"name\": \"phone\", \"type\": \"string\"},\n",
    "    {\"name\": \"website\", \"type\": \"string\"},\n",
    "    {\n",
    "        \"name\": \"description_brewery\",\n",
    "        \"type\": \"string\",\n",
    "        \"indexing\": [\"index\"],\n",
    "        \"index\": \"enable-bm25\",\n",
    "    },\n",
    "    {\"name\": \"cat_name\", \"type\": \"string\", \"indexing\": [\"index\", \"summary\"]},\n",
    "    {\"name\": \"cat_id_styles\", \"type\": \"string\"},\n",
    "    {\"name\": \"style_name\", \"type\": \"string\", \"indexing\": [\"index\", \"summary\"]},\n",
    "    {\"name\": \"id_geo\", \"type\": \"string\"},\n",
    "    {\n",
    "        \"name\": \"geoloc\",\n",
    "        \"type\": \"position\",\n",
    "    },  # see https://docs.vespa.ai/en/geo-search.html\n",
    "    {\"name\": \"accuracy\", \"type\": \"string\"},\n",
    "]"
   ]
  },
  {
   "cell_type": "code",
   "execution_count": 9,
   "id": "13ead6b9-aa44-43d2-a13b-f29e2793c56f",
   "metadata": {},
   "outputs": [],
   "source": [
    "app_name = \"beer\"\n",
    "app_package = ApplicationPackage(name=app_name, create_query_profile_by_default=False)"
   ]
  },
  {
   "cell_type": "code",
   "execution_count": 10,
   "id": "d3c6c62e-888d-44cf-9a86-6c06f811a0d2",
   "metadata": {},
   "outputs": [],
   "source": [
    "app_package.schema.add_fields(*[Field(**field_spec) for field_spec in fields_spec])\n",
    "\n",
    "app_package.schema.add_field_set(\n",
    "    FieldSet(name=\"default\", fields=[\"name\", \"description_beer\"])\n",
    ")\n",
    "\n",
    "app_package.schema.add_rank_profile(\n",
    "    RankProfile(name=\"default\", first_phase=\"bm25(name) + bm25(description_beer)\")\n",
    ")"
   ]
  },
  {
   "cell_type": "code",
   "execution_count": 11,
   "id": "cf93837d-1778-46f7-9f97-1216ecc0c40c",
   "metadata": {},
   "outputs": [],
   "source": [
    "app_package.to_files(VESPA_CONFIG_DIR)\n",
    "app_package.to_zipfile(VESPA_CONFIG_ZIP)"
   ]
  },
  {
   "cell_type": "code",
   "execution_count": 12,
   "id": "859d65c7-0850-45fa-9235-e62ec415f25b",
   "metadata": {},
   "outputs": [],
   "source": [
    "validation_overrides_str = \"\"\"\n",
    "<validation-overrides>\n",
    "    <allow until='2024-08-01'>indexing-change</allow>\n",
    "</validation-overrides>\n",
    "\"\"\"\n",
    "with open(os.path.join(VESPA_CONFIG_DIR, \"validation-overrides.xml\"), \"w\") as f:\n",
    "    f.write(validation_overrides_str)"
   ]
  },
  {
   "cell_type": "markdown",
   "id": "9da377ac-6028-4cdd-8e65-4240b3616ff9",
   "metadata": {},
   "source": [
    "**NOW** go onto Vespa's container and manually deploy the new app\n",
    "```\n",
    "cd /vespa-config\n",
    "chmod +x vespa-deploy.sh\n",
    "./vespa-deploy.sh\n",
    "```"
   ]
  },
  {
   "cell_type": "markdown",
   "id": "b7f41023-ad63-4b8a-9c98-546fa2eb917f",
   "metadata": {},
   "source": [
    "# Push data to Vespa"
   ]
  },
  {
   "cell_type": "code",
   "execution_count": 6,
   "id": "6cb564c1-d692-4c5e-8f98-48bef6fac15c",
   "metadata": {},
   "outputs": [
    {
     "name": "stdout",
     "output_type": "stream",
     "text": [
      "Using http Authentication against endpoint http://vespa:8080/ApplicationStatus\n",
      "Application is up!\n"
     ]
    }
   ],
   "source": [
    "client = Vespa(url=\"http://vespa\", port=8080)\n",
    "client.wait_for_application_up(5)"
   ]
  },
  {
   "cell_type": "code",
   "execution_count": 7,
   "id": "0ed8b4c7-7d37-4f2d-8eff-8cea0e926f37",
   "metadata": {},
   "outputs": [],
   "source": [
    "def craft_vespa_fields(s: pd.Series) -> dict:\n",
    "    id_ = f\"beer:{s['id']}\"\n",
    "    fields = {\n",
    "        \"id\": str(s[\"id\"]), # string\n",
    "        \"brewery_id\": s[\"brewery_id\"], # string\n",
    "        \"name\": s[\"name\"], # string\n",
    "        \"cat_id\": s[\"cat_id\"], # string\n",
    "        \"style_id\": s[\"style_id\"], # string\n",
    "        \"abv\": s[\"abv\"], # float\n",
    "        \"ibu\": s[\"ibu\"], # float\n",
    "        \"srm\": s[\"srm\"], # float\n",
    "        \"upc\": s[\"upc\"], # int\n",
    "        \"description_beer\": s[\"description_beer\"], # string\n",
    "        \"brewery\": s[\"brewery\"], # string\n",
    "        \"address1\": s[\"address1\"], # string\n",
    "        \"city\": s[\"city\"], # string\n",
    "        \"state\": s[\"state\"], # string\n",
    "        \"code\": s[\"code\"], # string\n",
    "        \"country\": s[\"country\"], # string\n",
    "        \"phone\": s[\"phone\"], # string\n",
    "        \"website\": s[\"website\"], # string\n",
    "        \"description_brewery\": s[\"description_brewery\"], # string\n",
    "        \"cat_name\": s[\"cat_name\"], # string\n",
    "        \"cat_id_styles\": s[\"cat_id_styles\"], # string\n",
    "        \"style_name\": s[\"style_name\"], # string\n",
    "        \"id_geo\": s[\"id_geo\"], # string\n",
    "        \"geoloc\": {\"lat\": s[\"latitude\"], \"lng\": s[\"longitude\"]}, # position\n",
    "        \"accuracy\": s[\"accuracy\"], # string\n",
    "    }\n",
    "    return {\"id\": id_, \"fields\": fields}\n",
    "    "
   ]
  },
  {
   "cell_type": "code",
   "execution_count": 8,
   "id": "5de04884-2577-43ff-88b6-93dfd57e17a2",
   "metadata": {},
   "outputs": [],
   "source": [
    "point = df.apply(craft_vespa_fields, axis=1).iloc[0]"
   ]
  },
  {
   "cell_type": "code",
   "execution_count": 11,
   "id": "5923dec4-68d9-463c-8fab-80e351e8bd30",
   "metadata": {},
   "outputs": [],
   "source": [
    "client.feed_iterable(df.apply(craft_vespa_fields, axis=1).to_list(), schema=\"beer\")"
   ]
  },
  {
   "cell_type": "markdown",
   "id": "0397e9e8-dd82-41c3-a372-1284952284fb",
   "metadata": {},
   "source": [
    "## Final check"
   ]
  },
  {
   "cell_type": "code",
   "execution_count": 10,
   "id": "769d31ea-9f6c-4343-86cd-c099e909029b",
   "metadata": {},
   "outputs": [
    {
     "data": {
      "text/plain": [
       "{'sddocname': 'beer',\n",
       " 'documentid': 'id:beer:beer::beer:4134',\n",
       " 'name': 'Kalamazoo Stout',\n",
       " 'description_beer': 'A full-bodied stout with plenty of roast flavor. Kalamazoo Stout is available year round, leading our vast portfolio of stouts.',\n",
       " 'brewery': \"Bell's Brewery Inc.\",\n",
       " 'country': 'United States',\n",
       " 'cat_name': 'British Ale',\n",
       " 'style_name': 'Sweet Stout',\n",
       " 'summaryfeatures': {'bm25(brewery)': 0.0,\n",
       "  'bm25(description_beer)': 3.73974816301847,\n",
       "  'length_of_descr': 1.0,\n",
       "  'vespa.summaryFeatures.cached': 0.0}}"
      ]
     },
     "execution_count": 10,
     "metadata": {},
     "output_type": "execute_result"
    }
   ],
   "source": [
    "resp = client.query(\n",
    "    {\n",
    "        \"yql\": \"select * from beer where userQuery()\",\n",
    "        \"hits\": 10,\n",
    "        \"query\": \"stout\",\n",
    "    }\n",
    ")\n",
    "resp.json[\"root\"][\"children\"][0][\"fields\"]"
   ]
  },
  {
   "cell_type": "code",
   "execution_count": null,
   "id": "c8c7edc1-9ed7-4595-8c2a-106563b0e819",
   "metadata": {},
   "outputs": [],
   "source": []
  }
 ],
 "metadata": {
  "kernelspec": {
   "display_name": "Python 3 (ipykernel)",
   "language": "python",
   "name": "python3"
  },
  "language_info": {
   "codemirror_mode": {
    "name": "ipython",
    "version": 3
   },
   "file_extension": ".py",
   "mimetype": "text/x-python",
   "name": "python",
   "nbconvert_exporter": "python",
   "pygments_lexer": "ipython3",
   "version": "3.11.0rc1"
  }
 },
 "nbformat": 4,
 "nbformat_minor": 5
}
