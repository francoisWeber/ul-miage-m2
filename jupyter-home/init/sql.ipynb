{
 "cells": [
  {
   "cell_type": "code",
   "execution_count": 1,
   "id": "40239eab-766d-459f-b005-90151a539934",
   "metadata": {},
   "outputs": [],
   "source": [
    "import mysql.connector\n",
    "import pandas as pd"
   ]
  },
  {
   "cell_type": "code",
   "execution_count": 18,
   "id": "8864e03a-1b86-43bd-84c9-b06bfcb17e0d",
   "metadata": {},
   "outputs": [],
   "source": [
    "from mysql.connector.errors import Error"
   ]
  },
  {
   "cell_type": "code",
   "execution_count": 48,
   "id": "2b4d708c-406b-4e1e-8314-4ed0cdc9cdc7",
   "metadata": {},
   "outputs": [],
   "source": [
    "# MySQL connection details\n",
    "mysql_host = \"mysql\"\n",
    "mysql_user = \"workshop_user\"\n",
    "mysql_password = \"workshop_password\"\n",
    "mysql_database = \"workshop_db\"\n",
    "\n",
    "# Create a connection to the MySQL database\n",
    "conn = mysql.connector.connect(\n",
    "    host=mysql_host, user=mysql_user, password=mysql_password, database=mysql_database\n",
    ")"
   ]
  },
  {
   "cell_type": "code",
   "execution_count": 49,
   "id": "edcfb6ff-c098-4763-a400-fac89cb5d0ed",
   "metadata": {},
   "outputs": [],
   "source": [
    "cursor = conn.cursor()"
   ]
  },
  {
   "cell_type": "code",
   "execution_count": null,
   "id": "c7db5cbe-1457-4521-8b09-8bdf8a7a3566",
   "metadata": {},
   "outputs": [],
   "source": [
    "full_join_query = \"\"\"SELECT *\n",
    "FROM beers, breweries, categories, styles, breweries_geocode\n",
    "WHERE TRUE\n",
    "AND beers.brewery_id = breweries.id\n",
    "AND beers.cat_id = categories.id\n",
    "AND beers.style_id = styles.id\n",
    "AND breweries.id = breweries_geocode.id\n",
    "INTO OUTFILE '/var/lib/mysql-files/beers_full.csv' FIELDS TERMINATED BY ',' ENCLOSED BY '\\\"' LINES TERMINATED BY '\\n'\n",
    ";\"\"\"\n",
    "cursor.execute(full_join_query)"
   ]
  },
  {
   "cell_type": "code",
   "execution_count": 53,
   "id": "2c0cdc67-9f90-47b0-8331-df73ed24ab73",
   "metadata": {},
   "outputs": [
    {
     "name": "stderr",
     "output_type": "stream",
     "text": [
      "/tmp/ipykernel_455/1724575695.py:10: UserWarning: pandas only supports SQLAlchemy connectable (engine/connection) or database string URI or sqlite3 DBAPI2 connection. Other DBAPI2 objects are not tested. Please consider using SQLAlchemy.\n",
      "  df = pd.read_sql_query(full_join_query, con=conn)\n"
     ]
    },
    {
     "data": {
      "text/html": [
       "<div>\n",
       "<style scoped>\n",
       "    .dataframe tbody tr th:only-of-type {\n",
       "        vertical-align: middle;\n",
       "    }\n",
       "\n",
       "    .dataframe tbody tr th {\n",
       "        vertical-align: top;\n",
       "    }\n",
       "\n",
       "    .dataframe thead th {\n",
       "        text-align: right;\n",
       "    }\n",
       "</style>\n",
       "<table border=\"1\" class=\"dataframe\">\n",
       "  <thead>\n",
       "    <tr style=\"text-align: right;\">\n",
       "      <th></th>\n",
       "      <th>id</th>\n",
       "      <th>brewery_id</th>\n",
       "      <th>name</th>\n",
       "      <th>cat_id</th>\n",
       "      <th>style_id</th>\n",
       "      <th>abv</th>\n",
       "      <th>ibu</th>\n",
       "      <th>srm</th>\n",
       "      <th>upc</th>\n",
       "      <th>filepath</th>\n",
       "      <th>...</th>\n",
       "      <th>last_mod</th>\n",
       "      <th>id</th>\n",
       "      <th>cat_id</th>\n",
       "      <th>style_name</th>\n",
       "      <th>last_mod</th>\n",
       "      <th>id</th>\n",
       "      <th>brewery_id</th>\n",
       "      <th>latitude</th>\n",
       "      <th>longitude</th>\n",
       "      <th>accuracy</th>\n",
       "    </tr>\n",
       "  </thead>\n",
       "  <tbody>\n",
       "    <tr>\n",
       "      <th>0</th>\n",
       "      <td>1</td>\n",
       "      <td>812</td>\n",
       "      <td>Hocus Pocus</td>\n",
       "      <td>11</td>\n",
       "      <td>116</td>\n",
       "      <td>4.5</td>\n",
       "      <td>0.0</td>\n",
       "      <td>0.0</td>\n",
       "      <td>0</td>\n",
       "      <td></td>\n",
       "      <td>...</td>\n",
       "      <td>2010-06-08</td>\n",
       "      <td>116</td>\n",
       "      <td>11</td>\n",
       "      <td>Light American Wheat Ale or Lager</td>\n",
       "      <td>2010-06-15 19:45:42</td>\n",
       "      <td>812</td>\n",
       "      <td>862</td>\n",
       "      <td>39.612</td>\n",
       "      <td>-105.019</td>\n",
       "      <td>ROOFTOP</td>\n",
       "    </tr>\n",
       "  </tbody>\n",
       "</table>\n",
       "<p>1 rows × 39 columns</p>\n",
       "</div>"
      ],
      "text/plain": [
       "  id brewery_id         name cat_id  style_id  abv  ibu  srm  upc filepath  \\\n",
       "0  1        812  Hocus Pocus     11       116  4.5  0.0  0.0    0            \n",
       "\n",
       "   ...   last_mod   id cat_id                         style_name  \\\n",
       "0  ... 2010-06-08  116     11  Light American Wheat Ale or Lager   \n",
       "\n",
       "             last_mod   id brewery_id latitude longitude accuracy  \n",
       "0 2010-06-15 19:45:42  812        862   39.612  -105.019  ROOFTOP  \n",
       "\n",
       "[1 rows x 39 columns]"
      ]
     },
     "execution_count": 53,
     "metadata": {},
     "output_type": "execute_result"
    }
   ],
   "source": [
    "full_join_query = \"\"\"SELECT *\n",
    "FROM beers, breweries, categories, styles, breweries_geocode\n",
    "WHERE TRUE\n",
    "AND beers.brewery_id = breweries.id\n",
    "AND beers.cat_id = categories.id\n",
    "AND beers.style_id = styles.id\n",
    "AND breweries.id = breweries_geocode.id\n",
    "LIMIT 1\n",
    ";\"\"\"\n",
    "df = pd.read_sql_query(full_join_query, con=conn)\n",
    "df"
   ]
  },
  {
   "cell_type": "code",
   "execution_count": 54,
   "id": "7f53f591-276e-4d42-990c-5473c87afe42",
   "metadata": {},
   "outputs": [
    {
     "data": {
      "text/plain": [
       "Index(['id', 'brewery_id', 'name', 'cat_id', 'style_id', 'abv', 'ibu', 'srm',\n",
       "       'upc', 'filepath', 'descript', 'add_user', 'last_mod', 'id', 'name',\n",
       "       'address1', 'address2', 'city', 'state', 'code', 'country', 'phone',\n",
       "       'website', 'filepath', 'descript', 'add_user', 'last_mod', 'id',\n",
       "       'cat_name', 'last_mod', 'id', 'cat_id', 'style_name', 'last_mod', 'id',\n",
       "       'brewery_id', 'latitude', 'longitude', 'accuracy'],\n",
       "      dtype='object')"
      ]
     },
     "execution_count": 54,
     "metadata": {},
     "output_type": "execute_result"
    }
   ],
   "source": [
    "df.columns"
   ]
  },
  {
   "cell_type": "code",
   "execution_count": 37,
   "id": "c0f3a2be-6e68-44a6-b20f-09a0bc21a2d2",
   "metadata": {},
   "outputs": [
    {
     "name": "stderr",
     "output_type": "stream",
     "text": [
      "/tmp/ipykernel_455/127590199.py:2: UserWarning: pandas only supports SQLAlchemy connectable (engine/connection) or database string URI or sqlite3 DBAPI2 connection. Other DBAPI2 objects are not tested. Please consider using SQLAlchemy.\n",
      "  _df = pd.read_sql_query(f\"select * from {table};\", con=conn)\n"
     ]
    }
   ],
   "source": [
    "df = pd.read_sql_query(\"show tables;\", con=conn)\n",
    "for table in df.Tables_in_workshop_db:\n",
    "    _df = pd.read_sql_query(f\"select * from {table};\", con=conn)\n",
    "    _df.to_csv(f\"/data/{table}.csv\", index=False)"
   ]
  },
  {
   "cell_type": "code",
   "execution_count": 40,
   "id": "a4e1ac98-ffdc-4d9f-afc5-aca2e13c8a1b",
   "metadata": {},
   "outputs": [
    {
     "name": "stderr",
     "output_type": "stream",
     "text": [
      "/tmp/ipykernel_455/464961589.py:1: UserWarning: pandas only supports SQLAlchemy connectable (engine/connection) or database string URI or sqlite3 DBAPI2 connection. Other DBAPI2 objects are not tested. Please consider using SQLAlchemy.\n",
      "  df = pd.read_sql_query(\"select * from breweries_geocode limit 1;\", con=conn)\n"
     ]
    },
    {
     "data": {
      "text/html": [
       "<div>\n",
       "<style scoped>\n",
       "    .dataframe tbody tr th:only-of-type {\n",
       "        vertical-align: middle;\n",
       "    }\n",
       "\n",
       "    .dataframe tbody tr th {\n",
       "        vertical-align: top;\n",
       "    }\n",
       "\n",
       "    .dataframe thead th {\n",
       "        text-align: right;\n",
       "    }\n",
       "</style>\n",
       "<table border=\"1\" class=\"dataframe\">\n",
       "  <thead>\n",
       "    <tr style=\"text-align: right;\">\n",
       "      <th></th>\n",
       "      <th>id</th>\n",
       "      <th>brewery_id</th>\n",
       "      <th>latitude</th>\n",
       "      <th>longitude</th>\n",
       "      <th>accuracy</th>\n",
       "    </tr>\n",
       "  </thead>\n",
       "  <tbody>\n",
       "    <tr>\n",
       "      <th>0</th>\n",
       "      <td>1</td>\n",
       "      <td>1</td>\n",
       "      <td>30.2234</td>\n",
       "      <td>-97.7697</td>\n",
       "      <td>ROOFTOP</td>\n",
       "    </tr>\n",
       "  </tbody>\n",
       "</table>\n",
       "</div>"
      ],
      "text/plain": [
       "   id  brewery_id  latitude  longitude accuracy\n",
       "0   1           1   30.2234   -97.7697  ROOFTOP"
      ]
     },
     "execution_count": 40,
     "metadata": {},
     "output_type": "execute_result"
    }
   ],
   "source": [
    "df = pd.read_sql_query(\"select * from breweries_geocode limit 1;\", con=conn)\n",
    "df"
   ]
  },
  {
   "cell_type": "code",
   "execution_count": 4,
   "id": "6e8f73da-b5ac-4dd6-8020-882448bc46e5",
   "metadata": {},
   "outputs": [],
   "source": [
    "with open(\"/datasets/beers/beers.sql\") as f:\n",
    "    cursor.execute(\"\\n\".join(f.readlines()))"
   ]
  },
  {
   "cell_type": "code",
   "execution_count": 5,
   "id": "9a9fc176-6e6d-48f2-8d6b-95746d7ff430",
   "metadata": {},
   "outputs": [
    {
     "ename": "MySQLInterfaceError",
     "evalue": "Commands out of sync; you can't run this command now",
     "output_type": "error",
     "traceback": [
      "\u001b[0;31m---------------------------------------------------------------------------\u001b[0m",
      "\u001b[0;31mMySQLInterfaceError\u001b[0m                       Traceback (most recent call last)",
      "Cell \u001b[0;32mIn[5], line 1\u001b[0m\n\u001b[0;32m----> 1\u001b[0m \u001b[43mconn\u001b[49m\u001b[38;5;241;43m.\u001b[39;49m\u001b[43mcommit\u001b[49m\u001b[43m(\u001b[49m\u001b[43m)\u001b[49m\n",
      "File \u001b[0;32m~/.local/lib/python3.11/site-packages/mysql/connector/connection_cext.py:576\u001b[0m, in \u001b[0;36mCMySQLConnection.commit\u001b[0;34m(self)\u001b[0m\n\u001b[1;32m    574\u001b[0m \u001b[38;5;28;01mif\u001b[39;00m \u001b[38;5;28mself\u001b[39m\u001b[38;5;241m.\u001b[39m_cmysql:\n\u001b[1;32m    575\u001b[0m     \u001b[38;5;28mself\u001b[39m\u001b[38;5;241m.\u001b[39mhandle_unread_result()\n\u001b[0;32m--> 576\u001b[0m     \u001b[38;5;28;43mself\u001b[39;49m\u001b[38;5;241;43m.\u001b[39;49m\u001b[43m_cmysql\u001b[49m\u001b[38;5;241;43m.\u001b[39;49m\u001b[43mcommit\u001b[49m\u001b[43m(\u001b[49m\u001b[43m)\u001b[49m\n",
      "\u001b[0;31mMySQLInterfaceError\u001b[0m: Commands out of sync; you can't run this command now"
     ]
    }
   ],
   "source": [
    "conn.commit()"
   ]
  },
  {
   "cell_type": "code",
   "execution_count": null,
   "id": "8bf6352b-b932-4b8c-943d-986d8f98ad65",
   "metadata": {},
   "outputs": [],
   "source": []
  }
 ],
 "metadata": {
  "kernelspec": {
   "display_name": "Python 3 (ipykernel)",
   "language": "python",
   "name": "python3"
  },
  "language_info": {
   "codemirror_mode": {
    "name": "ipython",
    "version": 3
   },
   "file_extension": ".py",
   "mimetype": "text/x-python",
   "name": "python",
   "nbconvert_exporter": "python",
   "pygments_lexer": "ipython3",
   "version": "3.11.0rc1"
  }
 },
 "nbformat": 4,
 "nbformat_minor": 5
}
