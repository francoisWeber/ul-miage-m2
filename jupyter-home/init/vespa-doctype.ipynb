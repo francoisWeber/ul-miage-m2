{
 "cells": [
  {
   "cell_type": "code",
   "execution_count": 30,
   "id": "0ad0122f-f026-43c1-b35d-3bf981369437",
   "metadata": {},
   "outputs": [],
   "source": [
    "import os\n",
    "import pandas as pd\n",
    "import numpy as np\n",
    "\n",
    "from vespa.package import ApplicationPackage\n",
    "from vespa.package import Field, FieldSet, RankProfile\n",
    "from vespa.application import Vespa"
   ]
  },
  {
   "cell_type": "code",
   "execution_count": 2,
   "id": "d76458af-9f54-4539-b651-a3d1287a9e0a",
   "metadata": {},
   "outputs": [],
   "source": [
    "DATA_DIR = \"/data\"\n",
    "DATA_FULL_PATH = \"/data/beers_full.csv\""
   ]
  },
  {
   "cell_type": "markdown",
   "id": "8502226f-0b55-41b5-a210-ac2fca1cf8f3",
   "metadata": {},
   "source": [
    "# Re Generate the full beers dataset for indices"
   ]
  },
  {
   "cell_type": "code",
   "execution_count": 3,
   "id": "af15ba9a-c45b-4ee2-8e4e-03c1f67f75f1",
   "metadata": {},
   "outputs": [],
   "source": [
    "REGENERATE = False"
   ]
  },
  {
   "cell_type": "code",
   "execution_count": 4,
   "id": "9c8cf4f6-3ae6-45cf-9e08-46773994fd19",
   "metadata": {},
   "outputs": [],
   "source": [
    "if REGENERATE:\n",
    "    dfs = {}\n",
    "    for fname in os.listdir(DATA_DIR):\n",
    "        if \"full\" in fname:\n",
    "            continue\n",
    "        path = os.path.join(DATA_DIR, fname)\n",
    "        os.path.basename(path)\n",
    "        table_name = os.path.splitext(os.path.basename(path))[0]\n",
    "        dfs[table_name] = pd.read_csv(path, encoding=\"utf-8\")\n",
    "\n",
    "    df = dfs[\"beers\"]\n",
    "    df = pd.merge(\n",
    "        df,\n",
    "        dfs[\"breweries\"].rename(columns={\"id\": \"brewery_id\"}),\n",
    "        how=\"left\",\n",
    "        on=\"brewery_id\",\n",
    "        suffixes=(\"\", \"_breweries\"),\n",
    "    )\n",
    "    df = pd.merge(\n",
    "        df,\n",
    "        dfs[\"categories\"].rename(columns={\"id\": \"cat_id\"}),\n",
    "        how=\"left\",\n",
    "        on=\"cat_id\",\n",
    "        suffixes=(\"\", \"_categories\"),\n",
    "    )\n",
    "    df = pd.merge(\n",
    "        df,\n",
    "        dfs[\"styles\"].rename(columns={\"id\": \"style_id\"}),\n",
    "        how=\"left\",\n",
    "        on=\"style_id\",\n",
    "        suffixes=(\"\", \"_styles\"),\n",
    "    )\n",
    "    df = pd.merge(\n",
    "        df, dfs[\"breweries_geocode\"], how=\"left\", on=\"brewery_id\", suffixes=(\"\", \"_geo\")\n",
    "    )\n",
    "    df = df.drop(\n",
    "        columns=[\n",
    "            \"address2\",\n",
    "            \"filepath_breweries\",\n",
    "            \"filepath\",\n",
    "            \"last_mod\",\n",
    "            \"last_mod_styles\",\n",
    "            \"last_mod_categories\",\n",
    "            \"add_user\",\n",
    "            \"add_user_breweries\",\n",
    "            \"last_mod_breweries\",\n",
    "        ]\n",
    "    )\n",
    "    df = df.rename(\n",
    "        columns={\n",
    "            \"descript_breweries\": \"description_brewery\",\n",
    "            \"descript\": \"description_beer\",\n",
    "            \"name_breweries\": \"brewery\",\n",
    "        }\n",
    "    )\n",
    "\n",
    "    df.to_csv(DATA_FULL_PATH, index=False)\n",
    "else:\n",
    "    df = pd.read_csv(DATA_FULL_PATH)"
   ]
  },
  {
   "cell_type": "code",
   "execution_count": 5,
   "id": "2260dfe6-e49c-4c3a-b646-35e280d39c8a",
   "metadata": {},
   "outputs": [
    {
     "data": {
      "text/html": [
       "<div>\n",
       "<style scoped>\n",
       "    .dataframe tbody tr th:only-of-type {\n",
       "        vertical-align: middle;\n",
       "    }\n",
       "\n",
       "    .dataframe tbody tr th {\n",
       "        vertical-align: top;\n",
       "    }\n",
       "\n",
       "    .dataframe thead th {\n",
       "        text-align: right;\n",
       "    }\n",
       "</style>\n",
       "<table border=\"1\" class=\"dataframe\">\n",
       "  <thead>\n",
       "    <tr style=\"text-align: right;\">\n",
       "      <th></th>\n",
       "      <th>id</th>\n",
       "      <th>brewery_id</th>\n",
       "      <th>name</th>\n",
       "      <th>cat_id</th>\n",
       "      <th>style_id</th>\n",
       "      <th>abv</th>\n",
       "      <th>ibu</th>\n",
       "      <th>srm</th>\n",
       "      <th>upc</th>\n",
       "      <th>description_beer</th>\n",
       "      <th>...</th>\n",
       "      <th>phone</th>\n",
       "      <th>website</th>\n",
       "      <th>description_brewery</th>\n",
       "      <th>cat_name</th>\n",
       "      <th>cat_id_styles</th>\n",
       "      <th>style_name</th>\n",
       "      <th>id_geo</th>\n",
       "      <th>latitude</th>\n",
       "      <th>longitude</th>\n",
       "      <th>accuracy</th>\n",
       "    </tr>\n",
       "  </thead>\n",
       "  <tbody>\n",
       "    <tr>\n",
       "      <th>3870</th>\n",
       "      <td>3827</td>\n",
       "      <td>1326</td>\n",
       "      <td>Moonglow Weizenbock</td>\n",
       "      <td>4</td>\n",
       "      <td>55</td>\n",
       "      <td>8.70</td>\n",
       "      <td>0.0</td>\n",
       "      <td>0.0</td>\n",
       "      <td>0</td>\n",
       "      <td>This dark amber wheat beer features fruity and...</td>\n",
       "      <td>...</td>\n",
       "      <td>1-610-873-0881</td>\n",
       "      <td>http://www.victorybeer.com</td>\n",
       "      <td>NaN</td>\n",
       "      <td>German Ale</td>\n",
       "      <td>4.0</td>\n",
       "      <td>South German-Style Weizenbock</td>\n",
       "      <td>1255.0</td>\n",
       "      <td>40.0061</td>\n",
       "      <td>-75.6942</td>\n",
       "      <td>RANGE_INTERPOLATED</td>\n",
       "    </tr>\n",
       "    <tr>\n",
       "      <th>627</th>\n",
       "      <td>615</td>\n",
       "      <td>1085</td>\n",
       "      <td>Blonde Ale</td>\n",
       "      <td>-1</td>\n",
       "      <td>-1</td>\n",
       "      <td>0.00</td>\n",
       "      <td>0.0</td>\n",
       "      <td>0.0</td>\n",
       "      <td>0</td>\n",
       "      <td>NaN</td>\n",
       "      <td>...</td>\n",
       "      <td>1-604-599-1190</td>\n",
       "      <td>NaN</td>\n",
       "      <td>NaN</td>\n",
       "      <td>NaN</td>\n",
       "      <td>NaN</td>\n",
       "      <td>NaN</td>\n",
       "      <td>NaN</td>\n",
       "      <td>NaN</td>\n",
       "      <td>NaN</td>\n",
       "      <td>NaN</td>\n",
       "    </tr>\n",
       "    <tr>\n",
       "      <th>4410</th>\n",
       "      <td>4362</td>\n",
       "      <td>963</td>\n",
       "      <td>Lone Star Light</td>\n",
       "      <td>8</td>\n",
       "      <td>96</td>\n",
       "      <td>3.85</td>\n",
       "      <td>0.0</td>\n",
       "      <td>0.0</td>\n",
       "      <td>0</td>\n",
       "      <td>\"Lone Star Light mimics its full-bodied counte...</td>\n",
       "      <td>...</td>\n",
       "      <td>1-800-935-2337</td>\n",
       "      <td>http://www.pabst.com/</td>\n",
       "      <td>At Pabst Brewing Company, we make beer with hi...</td>\n",
       "      <td>North American Lager</td>\n",
       "      <td>8.0</td>\n",
       "      <td>American-Style Light Lager</td>\n",
       "      <td>907.0</td>\n",
       "      <td>29.4300</td>\n",
       "      <td>-98.4900</td>\n",
       "      <td>APPROXIMATE</td>\n",
       "    </tr>\n",
       "  </tbody>\n",
       "</table>\n",
       "<p>3 rows × 26 columns</p>\n",
       "</div>"
      ],
      "text/plain": [
       "        id  brewery_id                 name  cat_id  style_id   abv  ibu  srm  \\\n",
       "3870  3827        1326  Moonglow Weizenbock       4        55  8.70  0.0  0.0   \n",
       "627    615        1085           Blonde Ale      -1        -1  0.00  0.0  0.0   \n",
       "4410  4362         963      Lone Star Light       8        96  3.85  0.0  0.0   \n",
       "\n",
       "      upc                                   description_beer  ...  \\\n",
       "3870    0  This dark amber wheat beer features fruity and...  ...   \n",
       "627     0                                                NaN  ...   \n",
       "4410    0  \"Lone Star Light mimics its full-bodied counte...  ...   \n",
       "\n",
       "               phone                     website  \\\n",
       "3870  1-610-873-0881  http://www.victorybeer.com   \n",
       "627   1-604-599-1190                         NaN   \n",
       "4410  1-800-935-2337       http://www.pabst.com/   \n",
       "\n",
       "                                    description_brewery              cat_name  \\\n",
       "3870                                                NaN            German Ale   \n",
       "627                                                 NaN                   NaN   \n",
       "4410  At Pabst Brewing Company, we make beer with hi...  North American Lager   \n",
       "\n",
       "     cat_id_styles                     style_name  id_geo latitude longitude  \\\n",
       "3870           4.0  South German-Style Weizenbock  1255.0  40.0061  -75.6942   \n",
       "627            NaN                            NaN     NaN      NaN       NaN   \n",
       "4410           8.0     American-Style Light Lager   907.0  29.4300  -98.4900   \n",
       "\n",
       "                accuracy  \n",
       "3870  RANGE_INTERPOLATED  \n",
       "627                  NaN  \n",
       "4410         APPROXIMATE  \n",
       "\n",
       "[3 rows x 26 columns]"
      ]
     },
     "execution_count": 5,
     "metadata": {},
     "output_type": "execute_result"
    }
   ],
   "source": [
    "df.sample(3)"
   ]
  },
  {
   "cell_type": "markdown",
   "id": "ade1a8e3-3a9e-46be-8c50-52d15eaad1c5",
   "metadata": {},
   "source": [
    "# Prepare a Vespa doctype"
   ]
  },
  {
   "cell_type": "code",
   "execution_count": 82,
   "id": "3a3c8fc5-5b7d-4392-b903-0fc546142909",
   "metadata": {},
   "outputs": [],
   "source": [
    "VESPA_CONFIG_DIR = \"/vespa-config\"\n",
    "VESPA_CONFIG_ZIP = os.path.join(VESPA_CONFIG_DIR, \"app_package.zip\")"
   ]
  },
  {
   "cell_type": "markdown",
   "id": "d34b1f41-cd30-418e-aabe-32dcee878b44",
   "metadata": {},
   "source": [
    "### Define Vespa doctype"
   ]
  },
  {
   "cell_type": "code",
   "execution_count": 83,
   "id": "32b76494-5b29-410d-a3e4-f9dba7d9fa2e",
   "metadata": {},
   "outputs": [],
   "source": [
    "fields_spec = [\n",
    "    {\"name\": \"id\", \"type\": \"string\"},\n",
    "    {\"name\": \"brewery_id\", \"type\": \"string\"},\n",
    "    {\"name\": \"name\", \"type\": \"string\", \"indexing\": [\"index\", \"summary\"]},\n",
    "    {\"name\": \"cat_id\", \"type\": \"string\"},\n",
    "    {\"name\": \"style_id\", \"type\": \"string\"},\n",
    "    {\"name\": \"abv\", \"type\": \"float\", \"indexing\": [\"attribute\"]},\n",
    "    {\"name\": \"ibu\", \"type\": \"float\", \"indexing\": [\"attribute\"]},\n",
    "    {\"name\": \"srm\", \"type\": \"float\", \"indexing\": [\"attribute\"]},\n",
    "    {\"name\": \"upc\", \"type\": \"int\", \"indexing\": [\"attribute\"]},\n",
    "    {\n",
    "        \"name\": \"description_beer\",\n",
    "        \"type\": \"string\",\n",
    "        \"indexing\": [\"index\", \"summary\"],\n",
    "        \"index\": \"enable-bm25\",\n",
    "    },\n",
    "    {\n",
    "        \"name\": \"brewery\",\n",
    "        \"type\": \"string\",\n",
    "        \"indexing\": [\"index\", \"summary\"],\n",
    "        \"index\": \"enable-bm25\",\n",
    "    },\n",
    "    {\"name\": \"address1\", \"type\": \"string\", \"indexing\": [\"index\"]},\n",
    "    {\"name\": \"city\", \"type\": \"string\", \"indexing\": [\"index\"]},\n",
    "    {\"name\": \"state\", \"type\": \"string\", \"indexing\": [\"index\"]},\n",
    "    {\"name\": \"code\", \"type\": \"string\"},\n",
    "    {\"name\": \"country\", \"type\": \"string\", \"indexing\": [\"index\", \"summary\"]},\n",
    "    {\"name\": \"phone\", \"type\": \"string\"},\n",
    "    {\"name\": \"website\", \"type\": \"string\"},\n",
    "    {\n",
    "        \"name\": \"description_brewery\",\n",
    "        \"type\": \"string\",\n",
    "        \"indexing\": [\"index\"],\n",
    "        \"index\": \"enable-bm25\",\n",
    "    },\n",
    "    {\"name\": \"cat_name\", \"type\": \"string\", \"indexing\": [\"index\", \"summary\"]},\n",
    "    {\"name\": \"cat_id_styles\", \"type\": \"string\"},\n",
    "    {\"name\": \"style_name\", \"type\": \"string\", \"indexing\": [\"index\", \"summary\"]},\n",
    "    {\"name\": \"id_geo\", \"type\": \"string\"},\n",
    "    {\n",
    "        \"name\": \"geoloc\",\n",
    "        \"type\": \"position\",\n",
    "    },  # see https://docs.vespa.ai/en/geo-search.html\n",
    "    {\"name\": \"accuracy\", \"type\": \"string\"},\n",
    "]"
   ]
  },
  {
   "cell_type": "code",
   "execution_count": 84,
   "id": "13ead6b9-aa44-43d2-a13b-f29e2793c56f",
   "metadata": {},
   "outputs": [],
   "source": [
    "app_name = \"beer\"\n",
    "app_package = ApplicationPackage(name=app_name, create_query_profile_by_default=False)"
   ]
  },
  {
   "cell_type": "code",
   "execution_count": 85,
   "id": "d3c6c62e-888d-44cf-9a86-6c06f811a0d2",
   "metadata": {},
   "outputs": [],
   "source": [
    "app_package.schema.add_fields(*[Field(**field_spec) for field_spec in fields_spec])\n",
    "\n",
    "app_package.schema.add_field_set(\n",
    "    FieldSet(name=\"default\", fields=[\"name\", \"description_beer\"])\n",
    ")\n",
    "\n",
    "app_package.schema.add_rank_profile(\n",
    "    RankProfile(name=\"default\", first_phase=\"bm25(name) + bm25(description_beer)\")\n",
    ")"
   ]
  },
  {
   "cell_type": "code",
   "execution_count": 86,
   "id": "cf93837d-1778-46f7-9f97-1216ecc0c40c",
   "metadata": {},
   "outputs": [],
   "source": [
    "app_package.to_files(VESPA_CONFIG_DIR)\n",
    "app_package.to_zipfile(VESPA_CONFIG_ZIP)"
   ]
  },
  {
   "cell_type": "code",
   "execution_count": 89,
   "id": "859d65c7-0850-45fa-9235-e62ec415f25b",
   "metadata": {},
   "outputs": [],
   "source": [
    "validation_overrides_str = \"\"\"\n",
    "<validation-overrides>\n",
    "    <allow until='2024-08-01'>indexing-change</allow>\n",
    "</validation-overrides>\n",
    "\"\"\"\n",
    "with open(os.path.join(VESPA_CONFIG_DIR, \"validation-overrides.xml\"), \"w\") as f:\n",
    "    f.write(validation_overrides_str)"
   ]
  },
  {
   "cell_type": "markdown",
   "id": "9da377ac-6028-4cdd-8e65-4240b3616ff9",
   "metadata": {},
   "source": [
    "**NOW** go onto Vespa's container and manually deploy the new app"
   ]
  },
  {
   "cell_type": "markdown",
   "id": "b7f41023-ad63-4b8a-9c98-546fa2eb917f",
   "metadata": {},
   "source": [
    "## Push data to Vespa"
   ]
  },
  {
   "cell_type": "code",
   "execution_count": 46,
   "id": "6cb564c1-d692-4c5e-8f98-48bef6fac15c",
   "metadata": {},
   "outputs": [
    {
     "name": "stdout",
     "output_type": "stream",
     "text": [
      "Using http Authentication against endpoint http://vespa:8080/ApplicationStatus\n",
      "Application is up!\n"
     ]
    }
   ],
   "source": [
    "client = Vespa(url=\"http://vespa\", port=8080)\n",
    "client.wait_for_application_up(5)"
   ]
  },
  {
   "cell_type": "code",
   "execution_count": 79,
   "id": "0ed8b4c7-7d37-4f2d-8eff-8cea0e926f37",
   "metadata": {},
   "outputs": [],
   "source": [
    "def craft_vespa_fields(s: pd.Series) -> dict:\n",
    "    id_ = f\"beer:{s['id']}\"\n",
    "    fields = {\n",
    "        \"id\": str(s[\"id\"]), # string\n",
    "        \"brewery_id\": s[\"brewery_id\"], # string\n",
    "        \"name\": s[\"name\"], # string\n",
    "        \"cat_id\": s[\"cat_id\"], # string\n",
    "        \"style_id\": s[\"style_id\"], # string\n",
    "        \"abv\": s[\"abv\"], # float\n",
    "        \"ibu\": s[\"ibu\"], # float\n",
    "        \"srm\": s[\"srm\"], # float\n",
    "        \"upc\": s[\"upc\"], # int\n",
    "        \"description_beer\": s[\"description_beer\"], # string\n",
    "        \"brewery\": s[\"brewery\"], # string\n",
    "        \"address1\": s[\"address1\"], # string\n",
    "        \"city\": s[\"city\"], # string\n",
    "        \"state\": s[\"state\"], # string\n",
    "        \"code\": s[\"code\"], # string\n",
    "        \"country\": s[\"country\"], # string\n",
    "        \"phone\": s[\"phone\"], # string\n",
    "        \"website\": s[\"website\"], # string\n",
    "        \"description_brewery\": s[\"description_brewery\"], # string\n",
    "        \"cat_name\": s[\"cat_name\"], # string\n",
    "        \"cat_id_styles\": s[\"cat_id_styles\"], # string\n",
    "        \"style_name\": s[\"style_name\"], # string\n",
    "        \"id_geo\": s[\"id_geo\"], # string\n",
    "        \"geoloc\": {\"lat\": s[\"latitude\"], \"lng\": s[\"longitude\"]}, # position\n",
    "        \"accuracy\": s[\"accuracy\"], # string\n",
    "    }\n",
    "    return {\"id\": id_, \"fields\": fields}\n",
    "    "
   ]
  },
  {
   "cell_type": "code",
   "execution_count": 90,
   "id": "5923dec4-68d9-463c-8fab-80e351e8bd30",
   "metadata": {},
   "outputs": [],
   "source": [
    "client.feed_iterable(df.apply(craft_vespa_fields, axis=1).to_list(), schema=\"beer\")"
   ]
  },
  {
   "cell_type": "markdown",
   "id": "0397e9e8-dd82-41c3-a372-1284952284fb",
   "metadata": {},
   "source": [
    "## Final check"
   ]
  },
  {
   "cell_type": "code",
   "execution_count": 91,
   "id": "769d31ea-9f6c-4343-86cd-c099e909029b",
   "metadata": {},
   "outputs": [
    {
     "data": {
      "text/plain": [
       "{'sddocname': 'beer',\n",
       " 'documentid': 'id:beer:beer::beer:4134',\n",
       " 'name': 'Kalamazoo Stout',\n",
       " 'description_beer': 'A full-bodied stout with plenty of roast flavor. Kalamazoo Stout is available year round, leading our vast portfolio of stouts.',\n",
       " 'brewery': \"Bell's Brewery Inc.\",\n",
       " 'country': 'United States',\n",
       " 'cat_name': 'British Ale',\n",
       " 'style_name': 'Sweet Stout'}"
      ]
     },
     "execution_count": 91,
     "metadata": {},
     "output_type": "execute_result"
    }
   ],
   "source": [
    "resp = client.query(\n",
    "    {\n",
    "        \"yql\": \"select * from beer where userQuery()\",\n",
    "        \"hits\": 1,\n",
    "        \"query\": \"stout\",\n",
    "    }\n",
    ")\n",
    "resp.json[\"root\"][\"children\"][0][\"fields\"]"
   ]
  },
  {
   "cell_type": "code",
   "execution_count": null,
   "id": "46f69023-c7e7-4552-9385-51a3cd46004c",
   "metadata": {},
   "outputs": [],
   "source": []
  }
 ],
 "metadata": {
  "kernelspec": {
   "display_name": "Python 3 (ipykernel)",
   "language": "python",
   "name": "python3"
  },
  "language_info": {
   "codemirror_mode": {
    "name": "ipython",
    "version": 3
   },
   "file_extension": ".py",
   "mimetype": "text/x-python",
   "name": "python",
   "nbconvert_exporter": "python",
   "pygments_lexer": "ipython3",
   "version": "3.11.0rc1"
  }
 },
 "nbformat": 4,
 "nbformat_minor": 5
}
