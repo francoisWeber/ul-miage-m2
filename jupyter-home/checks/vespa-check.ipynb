{
 "cells": [
  {
   "cell_type": "code",
   "execution_count": 25,
   "id": "ac024a62-f634-4faa-b58e-c9d585475d78",
   "metadata": {},
   "outputs": [
    {
     "name": "stdout",
     "output_type": "stream",
     "text": [
      "Using http Authentication against endpoint http://vespa:8080/ApplicationStatus\n",
      "Application is up!\n"
     ]
    }
   ],
   "source": [
    "from vespa.application import Vespa\n",
    "vespa = Vespa(url=\"http://vespa\", port=8080)\n",
    "vespa.wait_for_application_up(5)"
   ]
  },
  {
   "cell_type": "code",
   "execution_count": 28,
   "id": "5242f9a1-d292-4e32-a90b-4d1daecf9db6",
   "metadata": {},
   "outputs": [],
   "source": [
    "resp = vespa.query(\n",
    "    {\n",
    "        \"yql\": \"select * from beer where userQuery()\",\n",
    "        \"hits\": 5,\n",
    "        \"query\": \"stout\",\n",
    "    }\n",
    ")"
   ]
  },
  {
   "cell_type": "code",
   "execution_count": 33,
   "id": "9be138b2-c3e8-4a69-bc01-36e9f9bc20f2",
   "metadata": {},
   "outputs": [
    {
     "data": {
      "text/plain": [
       "[{'sddocname': 'beer',\n",
       "  'documentid': 'id:beer:beer::beer:4134',\n",
       "  'name': 'Kalamazoo Stout',\n",
       "  'description_beer': 'A full-bodied stout with plenty of roast flavor. Kalamazoo Stout is available year round, leading our vast portfolio of stouts.',\n",
       "  'brewery': \"Bell's Brewery Inc.\",\n",
       "  'country': 'United States',\n",
       "  'cat_name': 'British Ale',\n",
       "  'style_name': 'Sweet Stout'},\n",
       " {'sddocname': 'beer',\n",
       "  'documentid': 'id:beer:beer::beer:3751',\n",
       "  'name': 'Oatmeal Stout',\n",
       "  'description_beer': 'TrÃ¶egs Oatmeal Stout is our interpretation of the classic dry stout style. Dark and creamy with hints of chocolate and black currants, our Oatmeal Stout includes a healthy dose of Centennial and Chinook hops creating a unique stout perfect for the late Fall and Winter.',\n",
       "  'brewery': 'Troegs Brewing',\n",
       "  'country': 'United States',\n",
       "  'cat_name': 'North American Ale',\n",
       "  'style_name': 'American-Style Stout'},\n",
       " {'sddocname': 'beer',\n",
       "  'documentid': 'id:beer:beer::beer:4218',\n",
       "  'name': 'Siberian Night Imperial Stout',\n",
       "  'description_beer': 'Imperial Stouts are by far the \"GRAND - DADDY\" of all stouts. For those who demand flavor, this is the perfect libation.',\n",
       "  'brewery': 'Thirsty Dog Brewing',\n",
       "  'country': 'United States',\n",
       "  'cat_name': 'North American Ale',\n",
       "  'style_name': 'American-Style Imperial Stout'},\n",
       " {'sddocname': 'beer',\n",
       "  'documentid': 'id:beer:beer::beer:4193',\n",
       "  'name': 'Shakespeare Stout',\n",
       "  'description_beer': 'Stout was first introduced by Guinness in Ireland as \"Extra Stout\" (a stronger version of their Porter). Later, the stronger Imperial and Double Stouts emerged. Sweet, Milk, and Oatmeal Stouts are English adaptations with less alcohol and less bitter then the dry Irish Stouts. Victorian England recognized Oatmeal Stouts nutritional value and it is traditionally the drink of choice for nursing mothers and athletes. It is a beer equally at home with oysters as it is with a homemade pizza and freshly tossed green salad (or as a float over ice cream).\\r\\n\\r\\nRogues Shakespeare Stout received a 99, the highest score of the 309 beers in 44 categories at the 1994 World Beer Championships. The June/July 1998 issue of Mens Journal included Rogue Ales Shakespeare Stout as one of \"The 100 Best Things to Eat in America.\"Based on Stuart Kallens book, \"The 50 Best Beers in the World\", Shakespeare Stout was ranked the third best beer in the world and best American Beer--which makes it the Worlds Best Stout!\\r\\n\\r\\nRogues Shakespeare Stout is ebony in color, a rich creamy head and a mellow chocolate aftertaste. It is made from Northwest Harrington, Crystal, and Chocolate malts, roasted barley and rolled oats, along with Cascade hop. Shakespeare Stout is available in the classic 22-ounce bottle, a commemorative 3-litre bottle with ceramic swing-top, and on draft.',\n",
       "  'brewery': 'Rogue Ales',\n",
       "  'country': 'United States',\n",
       "  'cat_name': 'North American Ale',\n",
       "  'style_name': 'American-Style Stout'},\n",
       " {'sddocname': 'beer',\n",
       "  'documentid': 'id:beer:beer::beer:4118',\n",
       "  'name': 'Susquehanna Oatmeal Stout',\n",
       "  'description_beer': 'A big, burly Oatmeal Stout full of chocolate, caramelized malt and coffee flavors. This stout has a rich mouthfeel and a smooth, roasty finish.',\n",
       "  'brewery': 'Bullfrog Brewery',\n",
       "  'country': 'United States',\n",
       "  'cat_name': 'British Ale',\n",
       "  'style_name': 'Oatmeal Stout'}]"
      ]
     },
     "execution_count": 33,
     "metadata": {},
     "output_type": "execute_result"
    }
   ],
   "source": [
    "[beer[\"fields\"] for beer in resp.json[\"root\"][\"children\"]]"
   ]
  },
  {
   "cell_type": "code",
   "execution_count": null,
   "id": "a7438aa1-8175-49b2-88c9-fc2fa7e46c60",
   "metadata": {},
   "outputs": [],
   "source": []
  }
 ],
 "metadata": {
  "kernelspec": {
   "display_name": "Python 3 (ipykernel)",
   "language": "python",
   "name": "python3"
  },
  "language_info": {
   "codemirror_mode": {
    "name": "ipython",
    "version": 3
   },
   "file_extension": ".py",
   "mimetype": "text/x-python",
   "name": "python",
   "nbconvert_exporter": "python",
   "pygments_lexer": "ipython3",
   "version": "3.11.0rc1"
  }
 },
 "nbformat": 4,
 "nbformat_minor": 5
}
