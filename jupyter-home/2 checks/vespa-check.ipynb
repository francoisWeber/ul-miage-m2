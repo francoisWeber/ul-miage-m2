{
 "cells": [
  {
   "cell_type": "code",
   "execution_count": 1,
   "id": "ac024a62-f634-4faa-b58e-c9d585475d78",
   "metadata": {},
   "outputs": [
    {
     "name": "stdout",
     "output_type": "stream",
     "text": [
      "Using http Authentication against endpoint http://vespa:8080/ApplicationStatus\n",
      "Application is up!\n"
     ]
    }
   ],
   "source": [
    "from vespa.application import Vespa\n",
    "vespa = Vespa(url=\"http://vespa\", port=8080)\n",
    "vespa.wait_for_application_up(5)"
   ]
  },
  {
   "cell_type": "code",
   "execution_count": 2,
   "id": "d2f6ab70-9c54-4249-8535-291fe9759bc7",
   "metadata": {},
   "outputs": [
    {
     "name": "stdout",
     "output_type": "stream",
     "text": [
      "Using http Authentication against endpoint http://vespa:8080/ApplicationStatus\n"
     ]
    },
    {
     "data": {
      "text/plain": [
       "[{'id': 'id:beer:beer::beer:45',\n",
       "  'relevance': 0.0,\n",
       "  'source': 'beer_content',\n",
       "  'fields': {'sddocname': 'beer',\n",
       "   'documentid': 'id:beer:beer::beer:45',\n",
       "   'name': 'Calabaza Blanca',\n",
       "   'description_beer': \"Aged in large oak casks and refermented in the bottle, Calabaza Blanca is a Belgian Biere Blanche. Spiced with orange peel and corriander, you'll find it refreshingly tart, with a wonderfully dry finish.\",\n",
       "   'brewery': 'Jolly Pumpkin Artisan Ales',\n",
       "   'country': 'United States',\n",
       "   'cat_name': 'Belgian and French Ale',\n",
       "   'style_name': 'Other Belgian-Style Ales',\n",
       "   'summaryfeatures': {'bm25(description_beer)': 2.4290230496061986,\n",
       "    'length_of_descr': 1.0,\n",
       "    'vespa.summaryFeatures.cached': 0.0}}},\n",
       " {'id': 'id:beer:beer::beer:43',\n",
       "  'relevance': 0.0,\n",
       "  'source': 'beer_content',\n",
       "  'fields': {'sddocname': 'beer',\n",
       "   'documentid': 'id:beer:beer::beer:43',\n",
       "   'name': 'Maracaibo Especial',\n",
       "   'description_beer': 'A rich brown ale inspired by the enigmatic monastic brews of Belgium, and the mysterious mist shrouded jungles of the tropics. Brewed with real cacao, and spiced with cinnamon and sweet orange peel for a sensual delight. A brew to be sipped, savored, and enjoyed!',\n",
       "   'brewery': 'Jolly Pumpkin Artisan Ales',\n",
       "   'country': 'United States',\n",
       "   'cat_name': 'North American Ale',\n",
       "   'style_name': 'American-Style Brown Ale',\n",
       "   'summaryfeatures': {'bm25(description_beer)': 2.23042674964844,\n",
       "    'length_of_descr': 1.0,\n",
       "    'vespa.summaryFeatures.cached': 0.0}}},\n",
       " {'id': 'id:beer:beer::beer:288',\n",
       "  'relevance': 0.0,\n",
       "  'source': 'beer_content',\n",
       "  'fields': {'sddocname': 'beer',\n",
       "   'documentid': 'id:beer:beer::beer:288',\n",
       "   'name': 'Yule Tide',\n",
       "   'description_beer': \"The latest addition to Baltimore's own Clipper City Brewing Company - Mutiny Fleet is their holiday brew Yule Tide, a Belgian style triple ale, which like the rest of the Mutiny Fleet is distributed in 22 ounce bombers.\",\n",
       "   'brewery': 'Clipper City Brewing Co.',\n",
       "   'country': 'United States',\n",
       "   'cat_name': 'Belgian and French Ale',\n",
       "   'style_name': 'Belgian-Style Tripel',\n",
       "   'summaryfeatures': {'bm25(description_beer)': 2.3528426276223633,\n",
       "    'length_of_descr': 1.0,\n",
       "    'vespa.summaryFeatures.cached': 0.0}}},\n",
       " {'id': 'id:beer:beer::beer:401',\n",
       "  'relevance': 0.0,\n",
       "  'source': 'beer_content',\n",
       "  'fields': {'sddocname': 'beer',\n",
       "   'documentid': 'id:beer:beer::beer:401',\n",
       "   'name': 'New Belgium Trippel Belgian Style Ale',\n",
       "   'description_beer': 'Our Trippel Belgian Style Ale (pronounced triple) opens with a bold blast of hops that slowly gives way to the fruity esters implied by our Belgian yeast strain. The Three Graces hand-painted on the label are Zeusâ€™s daughters Aglaia (splendor), Euphrosyne (mirth) and Thalia (good cheer). In the Belgian tradition of brewing singles, doubles and triples, Trippel is the strongest with the longest fermentation. Remarkably smooth and complex, our bottle-conditioned Trippel is spiced with a trace of coriander.',\n",
       "   'brewery': 'New Belgium Brewing',\n",
       "   'country': 'United States',\n",
       "   'cat_name': 'Belgian and French Ale',\n",
       "   'style_name': 'Belgian-Style Tripel',\n",
       "   'summaryfeatures': {'bm25(description_beer)': 2.9106446150812153,\n",
       "    'length_of_descr': 1.0,\n",
       "    'vespa.summaryFeatures.cached': 0.0}}},\n",
       " {'id': 'id:beer:beer::beer:403',\n",
       "  'relevance': 0.0,\n",
       "  'source': 'beer_content',\n",
       "  'fields': {'sddocname': 'beer',\n",
       "   'documentid': 'id:beer:beer::beer:403',\n",
       "   'name': 'Abbey Belgian Style Ale',\n",
       "   'description_beer': 'Winner of four World Beer Cup medals and eight medals at the Great American Beer Fest, Abbey Belgian Ale is the Mark Spitz of New Belgiumâ€™s lineup - but it didnâ€™t start out that way. When Jeff and Kim first sampled the beer at the Lyons Folks Fest, reviews were mixed at best. One of founder Jeffâ€™s first two Belgian style homebrews (along with Fat Tire), Abbey is a Belgian dubbel (or double) brewed with six different malts and an authentic Belgian yeast strain. Abbey is bottle-conditioned, weighs in at 7.0% alcohol by volume, and pairs well with chocolate (or boldly served by itself) for dessert.',\n",
       "   'brewery': 'New Belgium Brewing',\n",
       "   'country': 'United States',\n",
       "   'cat_name': 'Belgian and French Ale',\n",
       "   'style_name': 'Belgian-Style Dubbel',\n",
       "   'summaryfeatures': {'bm25(description_beer)': 2.933557642354107,\n",
       "    'length_of_descr': 1.0,\n",
       "    'vespa.summaryFeatures.cached': 0.0}}}]"
      ]
     },
     "execution_count": 2,
     "metadata": {},
     "output_type": "execute_result"
    }
   ],
   "source": [
    "resp = vespa.query(\n",
    "    {\n",
    "        \"yql\": \"select * from beer where userQuery()\",\n",
    "        \"hits\": 5,\n",
    "        \"query\": \"belgian\",\n",
    "        \"ranking\": \"rank-brewery-and-descr\",\n",
    "    }\n",
    ")\n",
    "\n",
    "resp.json[\"root\"][\"children\"]"
   ]
  },
  {
   "cell_type": "code",
   "execution_count": null,
   "id": "a7438aa1-8175-49b2-88c9-fc2fa7e46c60",
   "metadata": {},
   "outputs": [],
   "source": []
  }
 ],
 "metadata": {
  "kernelspec": {
   "display_name": "Python 3 (ipykernel)",
   "language": "python",
   "name": "python3"
  },
  "language_info": {
   "codemirror_mode": {
    "name": "ipython",
    "version": 3
   },
   "file_extension": ".py",
   "mimetype": "text/x-python",
   "name": "python",
   "nbconvert_exporter": "python",
   "pygments_lexer": "ipython3",
   "version": "3.11.0rc1"
  }
 },
 "nbformat": 4,
 "nbformat_minor": 5
}
